{
 "cells": [
  {
   "cell_type": "code",
   "execution_count": 1,
   "id": "05889965",
   "metadata": {
    "_cell_guid": "b1076dfc-b9ad-4769-8c92-a6c4dae69d19",
    "_uuid": "8f2839f25d086af736a60e9eeb907d3b93b6e0e5",
    "execution": {
     "iopub.execute_input": "2022-06-22T14:59:23.810198Z",
     "iopub.status.busy": "2022-06-22T14:59:23.809789Z",
     "iopub.status.idle": "2022-06-22T14:59:23.815864Z",
     "shell.execute_reply": "2022-06-22T14:59:23.814976Z"
    },
    "papermill": {
     "duration": 0.019946,
     "end_time": "2022-06-22T14:59:23.818171",
     "exception": false,
     "start_time": "2022-06-22T14:59:23.798225",
     "status": "completed"
    },
    "tags": []
   },
   "outputs": [],
   "source": [
    "# # This Python 3 environment comes with many helpful analytics libraries installed\n",
    "# # It is defined by the kaggle/python Docker image: https://github.com/kaggle/docker-python\n",
    "# # For example, here's several helpful packages to load\n",
    "\n",
    "# import numpy as np # linear algebra\n",
    "# import pandas as pd # data processing, CSV file I/O (e.g. pd.read_csv)\n",
    "\n",
    "# # Input data files are available in the read-only \"../input/\" directory\n",
    "# # For example, running this (by clicking run or pressing Shift+Enter) will list all files under the input directory\n",
    "\n",
    "# import os\n",
    "# for dirname, _, filenames in os.walk('/kaggle/input'):\n",
    "#     for filename in filenames:\n",
    "#         print(os.path.join(dirname, filename))\n",
    "\n",
    "# # You can write up to 20GB to the current directory (/kaggle/working/) that gets preserved as output when you create a version using \"Save & Run All\" \n",
    "# # You can also write temporary files to /kaggle/temp/, but they won't be saved outside of the current session"
   ]
  },
  {
   "cell_type": "code",
   "execution_count": 2,
   "id": "7b65ab08",
   "metadata": {
    "execution": {
     "iopub.execute_input": "2022-06-22T14:59:23.837420Z",
     "iopub.status.busy": "2022-06-22T14:59:23.836687Z",
     "iopub.status.idle": "2022-06-22T14:59:24.968614Z",
     "shell.execute_reply": "2022-06-22T14:59:24.967650Z"
    },
    "papermill": {
     "duration": 1.144112,
     "end_time": "2022-06-22T14:59:24.971037",
     "exception": false,
     "start_time": "2022-06-22T14:59:23.826925",
     "status": "completed"
    },
    "tags": []
   },
   "outputs": [],
   "source": [
    "# Import necessary modules\n",
    "import pickle\n",
    "\n",
    "import numpy as np # linear algebra\n",
    "import pandas as pd\n",
    "import matplotlib.pyplot as plt\n",
    "import seaborn as sns\n",
    "\n"
   ]
  },
  {
   "cell_type": "code",
   "execution_count": 3,
   "id": "bb5fd232",
   "metadata": {
    "execution": {
     "iopub.execute_input": "2022-06-22T14:59:24.991203Z",
     "iopub.status.busy": "2022-06-22T14:59:24.990120Z",
     "iopub.status.idle": "2022-06-22T14:59:25.643797Z",
     "shell.execute_reply": "2022-06-22T14:59:25.642593Z"
    },
    "papermill": {
     "duration": 0.667395,
     "end_time": "2022-06-22T14:59:25.646965",
     "exception": false,
     "start_time": "2022-06-22T14:59:24.979570",
     "status": "completed"
    },
    "tags": []
   },
   "outputs": [],
   "source": [
    "from sklearn.model_selection import train_test_split, GridSearchCV\n",
    "from sklearn.pipeline import Pipeline, make_pipeline\n",
    "from category_encoders import OrdinalEncoder\n",
    "#from sklearn.preprocessing import OrdinalEncoder\n",
    "from sklearn.ensemble import RandomForestClassifier\n",
    "from sklearn.metrics import ConfusionMatrixDisplay, confusion_matrix, recall_score, precision_score"
   ]
  },
  {
   "cell_type": "code",
   "execution_count": 4,
   "id": "04ac7264",
   "metadata": {
    "execution": {
     "iopub.execute_input": "2022-06-22T14:59:25.667374Z",
     "iopub.status.busy": "2022-06-22T14:59:25.666913Z",
     "iopub.status.idle": "2022-06-22T14:59:25.672201Z",
     "shell.execute_reply": "2022-06-22T14:59:25.671356Z"
    },
    "papermill": {
     "duration": 0.017326,
     "end_time": "2022-06-22T14:59:25.674358",
     "exception": false,
     "start_time": "2022-06-22T14:59:25.657032",
     "status": "completed"
    },
    "tags": []
   },
   "outputs": [],
   "source": [
    "def change_gender(gender):\n",
    "    \n",
    "    if gender[0] == 'F':\n",
    "        gender = 'Female'\n",
    "        \n",
    "    if gender[0] == 'M':\n",
    "        gender = 'Male'\n",
    "     \n",
    "    return gender"
   ]
  },
  {
   "cell_type": "code",
   "execution_count": 5,
   "id": "5d594385",
   "metadata": {
    "execution": {
     "iopub.execute_input": "2022-06-22T14:59:25.694484Z",
     "iopub.status.busy": "2022-06-22T14:59:25.693791Z",
     "iopub.status.idle": "2022-06-22T14:59:25.703644Z",
     "shell.execute_reply": "2022-06-22T14:59:25.702677Z"
    },
    "papermill": {
     "duration": 0.023416,
     "end_time": "2022-06-22T14:59:25.706458",
     "exception": false,
     "start_time": "2022-06-22T14:59:25.683042",
     "status": "completed"
    },
    "tags": []
   },
   "outputs": [],
   "source": [
    "def wrangle_customer_demo(filepath):\n",
    "    \n",
    "    df = pd.read_csv(filepath).set_index('customer_id')\n",
    "    \n",
    "    df['gender'] = df['gender'].apply(change_gender)\n",
    "    \n",
    "    df['job_industry_category'].fillna('Other', inplace=True)\n",
    "    \n",
    "\n",
    "    #Drop rows with empty values\n",
    "    df.drop(index = df[df['DOB'].isna()].index, inplace= True)\n",
    "    \n",
    "    \n",
    "    df['age'] = 2018 - df['DOB'].str.slice(0,4).astype(int)\n",
    "    \n",
    "    df.drop(index = df[df['age'] == 175].index, inplace = True)\n",
    "    df[df['age'] == 2018]['age'].replace()\n",
    "            \n",
    "    df['owns_car'] = (df['owns_car'] == 'Yes').astype(bool)\n",
    "    df['deceased_indicator'] = (df['deceased_indicator'] == 'Y')\n",
    "    \n",
    "    #Drop columns with high modularity or low impact\n",
    "    drop_cols = ['first_name', 'last_name', 'job_title', 'DOB', 'deceased_indicator']\n",
    "    df.drop(columns = drop_cols, inplace = True)\n",
    "    \n",
    "    \n",
    "    return df"
   ]
  },
  {
   "cell_type": "code",
   "execution_count": 6,
   "id": "e8c75ff9",
   "metadata": {
    "execution": {
     "iopub.execute_input": "2022-06-22T14:59:25.725942Z",
     "iopub.status.busy": "2022-06-22T14:59:25.725216Z",
     "iopub.status.idle": "2022-06-22T14:59:25.731235Z",
     "shell.execute_reply": "2022-06-22T14:59:25.729927Z"
    },
    "papermill": {
     "duration": 0.018651,
     "end_time": "2022-06-22T14:59:25.733733",
     "exception": false,
     "start_time": "2022-06-22T14:59:25.715082",
     "status": "completed"
    },
    "tags": []
   },
   "outputs": [],
   "source": [
    "def wrangle_address(filepath):\n",
    "    df = pd.read_csv(filepath)\n",
    "    \n",
    "    df.drop(columns = ['country', 'address'], inplace = True)\n",
    "    \n",
    "    df['state'] = df['state'].replace(to_replace = {'New South Wales' : 'NSW', 'Victoria': 'VIC'})\n",
    "    \n",
    "    return df"
   ]
  },
  {
   "cell_type": "code",
   "execution_count": 7,
   "id": "f96b08f9",
   "metadata": {
    "execution": {
     "iopub.execute_input": "2022-06-22T14:59:25.752684Z",
     "iopub.status.busy": "2022-06-22T14:59:25.752247Z",
     "iopub.status.idle": "2022-06-22T14:59:25.758542Z",
     "shell.execute_reply": "2022-06-22T14:59:25.757587Z"
    },
    "papermill": {
     "duration": 0.018219,
     "end_time": "2022-06-22T14:59:25.760583",
     "exception": false,
     "start_time": "2022-06-22T14:59:25.742364",
     "status": "completed"
    },
    "tags": []
   },
   "outputs": [],
   "source": [
    "def wrangle_transact(filepath):\n",
    "    \n",
    "    df = pd.read_csv(filepath)\n",
    "    \n",
    "    df['online_order'] = df['online_order'].astype(bool)\n",
    "    \n",
    "    df.drop(index = df[df['brand'].isna()].index, inplace = True)\n",
    "    \n",
    "    df_sub = df[['customer_id', 'online_order', 'brand', 'product_line', 'product_class', 'product_size', 'list_price']]\n",
    "    \n",
    "    df_sub\n",
    "    return df_sub"
   ]
  },
  {
   "cell_type": "code",
   "execution_count": 8,
   "id": "c2b51eed",
   "metadata": {
    "execution": {
     "iopub.execute_input": "2022-06-22T14:59:25.779685Z",
     "iopub.status.busy": "2022-06-22T14:59:25.779267Z",
     "iopub.status.idle": "2022-06-22T14:59:25.785914Z",
     "shell.execute_reply": "2022-06-22T14:59:25.784991Z"
    },
    "papermill": {
     "duration": 0.018496,
     "end_time": "2022-06-22T14:59:25.787907",
     "exception": false,
     "start_time": "2022-06-22T14:59:25.769411",
     "status": "completed"
    },
    "tags": []
   },
   "outputs": [],
   "source": [
    "# Wrangle all data sets and return final dataframe\n",
    "def wrangle(cust_demo_fpath, cust_add_fpath, cust_transact_fpath):\n",
    "    \n",
    "    df_cust_demo = wrangle_customer_demo(cust_demo_fpath)\n",
    "    \n",
    "    df_address = wrangle_address(cust_add_fpath)\n",
    "    \n",
    "    df_transact_sub = wrangle_transact(cust_transact_fpath)\n",
    "    \n",
    "    df_2 = df_cust_demo.merge(df_address, on='customer_id')\n",
    "    \n",
    "    online_order_prob = df_transact_sub.groupby('customer_id')['online_order'].mean() >= 0.5\n",
    "    \n",
    "    df_merged = df_2.merge(online_order_prob, on = 'customer_id')\n",
    "    \n",
    "    df_merged.drop(columns =['postcode', 'customer_id'], inplace = True)\n",
    "    \n",
    "    return df_merged"
   ]
  },
  {
   "cell_type": "code",
   "execution_count": 9,
   "id": "5983197a",
   "metadata": {
    "execution": {
     "iopub.execute_input": "2022-06-22T14:59:25.807090Z",
     "iopub.status.busy": "2022-06-22T14:59:25.806352Z",
     "iopub.status.idle": "2022-06-22T14:59:25.922194Z",
     "shell.execute_reply": "2022-06-22T14:59:25.920738Z"
    },
    "papermill": {
     "duration": 0.129139,
     "end_time": "2022-06-22T14:59:25.925593",
     "exception": false,
     "start_time": "2022-06-22T14:59:25.796454",
     "status": "completed"
    },
    "tags": []
   },
   "outputs": [
    {
     "data": {
      "text/html": [
       "<div>\n",
       "<style scoped>\n",
       "    .dataframe tbody tr th:only-of-type {\n",
       "        vertical-align: middle;\n",
       "    }\n",
       "\n",
       "    .dataframe tbody tr th {\n",
       "        vertical-align: top;\n",
       "    }\n",
       "\n",
       "    .dataframe thead th {\n",
       "        text-align: right;\n",
       "    }\n",
       "</style>\n",
       "<table border=\"1\" class=\"dataframe\">\n",
       "  <thead>\n",
       "    <tr style=\"text-align: right;\">\n",
       "      <th></th>\n",
       "      <th>customer_id</th>\n",
       "      <th>online_order</th>\n",
       "      <th>brand</th>\n",
       "      <th>product_line</th>\n",
       "      <th>product_class</th>\n",
       "      <th>product_size</th>\n",
       "      <th>list_price</th>\n",
       "    </tr>\n",
       "  </thead>\n",
       "  <tbody>\n",
       "    <tr>\n",
       "      <th>0</th>\n",
       "      <td>787</td>\n",
       "      <td>True</td>\n",
       "      <td>Giant Bicycles</td>\n",
       "      <td>Standard</td>\n",
       "      <td>medium</td>\n",
       "      <td>large</td>\n",
       "      <td>1765.30</td>\n",
       "    </tr>\n",
       "    <tr>\n",
       "      <th>1</th>\n",
       "      <td>2339</td>\n",
       "      <td>True</td>\n",
       "      <td>Giant Bicycles</td>\n",
       "      <td>Road</td>\n",
       "      <td>medium</td>\n",
       "      <td>medium</td>\n",
       "      <td>1538.99</td>\n",
       "    </tr>\n",
       "    <tr>\n",
       "      <th>2</th>\n",
       "      <td>247</td>\n",
       "      <td>False</td>\n",
       "      <td>Giant Bicycles</td>\n",
       "      <td>Standard</td>\n",
       "      <td>medium</td>\n",
       "      <td>large</td>\n",
       "      <td>1765.30</td>\n",
       "    </tr>\n",
       "    <tr>\n",
       "      <th>3</th>\n",
       "      <td>1842</td>\n",
       "      <td>False</td>\n",
       "      <td>Giant Bicycles</td>\n",
       "      <td>Standard</td>\n",
       "      <td>medium</td>\n",
       "      <td>small</td>\n",
       "      <td>1311.44</td>\n",
       "    </tr>\n",
       "    <tr>\n",
       "      <th>4</th>\n",
       "      <td>3002</td>\n",
       "      <td>True</td>\n",
       "      <td>Giant Bicycles</td>\n",
       "      <td>Road</td>\n",
       "      <td>medium</td>\n",
       "      <td>medium</td>\n",
       "      <td>1538.99</td>\n",
       "    </tr>\n",
       "  </tbody>\n",
       "</table>\n",
       "</div>"
      ],
      "text/plain": [
       "   customer_id  online_order           brand product_line product_class  \\\n",
       "0          787          True  Giant Bicycles     Standard        medium   \n",
       "1         2339          True  Giant Bicycles         Road        medium   \n",
       "2          247         False  Giant Bicycles     Standard        medium   \n",
       "3         1842         False  Giant Bicycles     Standard        medium   \n",
       "4         3002          True  Giant Bicycles         Road        medium   \n",
       "\n",
       "  product_size  list_price  \n",
       "0        large     1765.30  \n",
       "1       medium     1538.99  \n",
       "2        large     1765.30  \n",
       "3        small     1311.44  \n",
       "4       medium     1538.99  "
      ]
     },
     "execution_count": 9,
     "metadata": {},
     "output_type": "execute_result"
    }
   ],
   "source": [
    "transact_df = wrangle_transact('../input/kpmg-internship/customer_transactions.csv')\n",
    "transact_df.head()"
   ]
  },
  {
   "cell_type": "code",
   "execution_count": 10,
   "id": "6e135990",
   "metadata": {
    "execution": {
     "iopub.execute_input": "2022-06-22T14:59:25.945773Z",
     "iopub.status.busy": "2022-06-22T14:59:25.945076Z",
     "iopub.status.idle": "2022-06-22T14:59:26.101644Z",
     "shell.execute_reply": "2022-06-22T14:59:26.100477Z"
    },
    "papermill": {
     "duration": 0.169635,
     "end_time": "2022-06-22T14:59:26.104236",
     "exception": false,
     "start_time": "2022-06-22T14:59:25.934601",
     "status": "completed"
    },
    "tags": []
   },
   "outputs": [
    {
     "data": {
      "text/html": [
       "<div>\n",
       "<style scoped>\n",
       "    .dataframe tbody tr th:only-of-type {\n",
       "        vertical-align: middle;\n",
       "    }\n",
       "\n",
       "    .dataframe tbody tr th {\n",
       "        vertical-align: top;\n",
       "    }\n",
       "\n",
       "    .dataframe thead th {\n",
       "        text-align: right;\n",
       "    }\n",
       "</style>\n",
       "<table border=\"1\" class=\"dataframe\">\n",
       "  <thead>\n",
       "    <tr style=\"text-align: right;\">\n",
       "      <th></th>\n",
       "      <th>gender</th>\n",
       "      <th>past_3_years_bike_related_purchases</th>\n",
       "      <th>job_industry_category</th>\n",
       "      <th>wealth_segment</th>\n",
       "      <th>owns_car</th>\n",
       "      <th>tenure</th>\n",
       "      <th>age</th>\n",
       "      <th>state</th>\n",
       "      <th>property_valuation</th>\n",
       "      <th>online_order</th>\n",
       "    </tr>\n",
       "  </thead>\n",
       "  <tbody>\n",
       "    <tr>\n",
       "      <th>0</th>\n",
       "      <td>Female</td>\n",
       "      <td>93</td>\n",
       "      <td>Health</td>\n",
       "      <td>Mass Customer</td>\n",
       "      <td>True</td>\n",
       "      <td>11.0</td>\n",
       "      <td>65</td>\n",
       "      <td>NSW</td>\n",
       "      <td>10</td>\n",
       "      <td>True</td>\n",
       "    </tr>\n",
       "    <tr>\n",
       "      <th>1</th>\n",
       "      <td>Male</td>\n",
       "      <td>81</td>\n",
       "      <td>Financial Services</td>\n",
       "      <td>Mass Customer</td>\n",
       "      <td>True</td>\n",
       "      <td>16.0</td>\n",
       "      <td>38</td>\n",
       "      <td>NSW</td>\n",
       "      <td>10</td>\n",
       "      <td>False</td>\n",
       "    </tr>\n",
       "    <tr>\n",
       "      <th>2</th>\n",
       "      <td>Male</td>\n",
       "      <td>33</td>\n",
       "      <td>IT</td>\n",
       "      <td>Mass Customer</td>\n",
       "      <td>False</td>\n",
       "      <td>7.0</td>\n",
       "      <td>57</td>\n",
       "      <td>QLD</td>\n",
       "      <td>9</td>\n",
       "      <td>True</td>\n",
       "    </tr>\n",
       "    <tr>\n",
       "      <th>3</th>\n",
       "      <td>Female</td>\n",
       "      <td>56</td>\n",
       "      <td>Other</td>\n",
       "      <td>Affluent Customer</td>\n",
       "      <td>True</td>\n",
       "      <td>8.0</td>\n",
       "      <td>41</td>\n",
       "      <td>NSW</td>\n",
       "      <td>4</td>\n",
       "      <td>False</td>\n",
       "    </tr>\n",
       "    <tr>\n",
       "      <th>4</th>\n",
       "      <td>Male</td>\n",
       "      <td>35</td>\n",
       "      <td>Retail</td>\n",
       "      <td>High Net Worth</td>\n",
       "      <td>True</td>\n",
       "      <td>13.0</td>\n",
       "      <td>52</td>\n",
       "      <td>VIC</td>\n",
       "      <td>9</td>\n",
       "      <td>False</td>\n",
       "    </tr>\n",
       "    <tr>\n",
       "      <th>5</th>\n",
       "      <td>Female</td>\n",
       "      <td>6</td>\n",
       "      <td>Financial Services</td>\n",
       "      <td>Affluent Customer</td>\n",
       "      <td>True</td>\n",
       "      <td>11.0</td>\n",
       "      <td>42</td>\n",
       "      <td>NSW</td>\n",
       "      <td>9</td>\n",
       "      <td>True</td>\n",
       "    </tr>\n",
       "    <tr>\n",
       "      <th>6</th>\n",
       "      <td>Male</td>\n",
       "      <td>31</td>\n",
       "      <td>Other</td>\n",
       "      <td>Mass Customer</td>\n",
       "      <td>False</td>\n",
       "      <td>7.0</td>\n",
       "      <td>56</td>\n",
       "      <td>NSW</td>\n",
       "      <td>4</td>\n",
       "      <td>True</td>\n",
       "    </tr>\n",
       "    <tr>\n",
       "      <th>7</th>\n",
       "      <td>Female</td>\n",
       "      <td>97</td>\n",
       "      <td>Argiculture</td>\n",
       "      <td>Affluent Customer</td>\n",
       "      <td>True</td>\n",
       "      <td>8.0</td>\n",
       "      <td>45</td>\n",
       "      <td>NSW</td>\n",
       "      <td>12</td>\n",
       "      <td>False</td>\n",
       "    </tr>\n",
       "    <tr>\n",
       "      <th>8</th>\n",
       "      <td>Male</td>\n",
       "      <td>99</td>\n",
       "      <td>Property</td>\n",
       "      <td>Mass Customer</td>\n",
       "      <td>False</td>\n",
       "      <td>9.0</td>\n",
       "      <td>64</td>\n",
       "      <td>VIC</td>\n",
       "      <td>8</td>\n",
       "      <td>True</td>\n",
       "    </tr>\n",
       "    <tr>\n",
       "      <th>9</th>\n",
       "      <td>Male</td>\n",
       "      <td>58</td>\n",
       "      <td>Manufacturing</td>\n",
       "      <td>Mass Customer</td>\n",
       "      <td>False</td>\n",
       "      <td>8.0</td>\n",
       "      <td>24</td>\n",
       "      <td>QLD</td>\n",
       "      <td>4</td>\n",
       "      <td>False</td>\n",
       "    </tr>\n",
       "    <tr>\n",
       "      <th>10</th>\n",
       "      <td>Male</td>\n",
       "      <td>38</td>\n",
       "      <td>Financial Services</td>\n",
       "      <td>High Net Worth</td>\n",
       "      <td>True</td>\n",
       "      <td>8.0</td>\n",
       "      <td>63</td>\n",
       "      <td>VIC</td>\n",
       "      <td>6</td>\n",
       "      <td>True</td>\n",
       "    </tr>\n",
       "    <tr>\n",
       "      <th>11</th>\n",
       "      <td>Female</td>\n",
       "      <td>85</td>\n",
       "      <td>Financial Services</td>\n",
       "      <td>Affluent Customer</td>\n",
       "      <td>False</td>\n",
       "      <td>6.0</td>\n",
       "      <td>35</td>\n",
       "      <td>NSW</td>\n",
       "      <td>8</td>\n",
       "      <td>True</td>\n",
       "    </tr>\n",
       "    <tr>\n",
       "      <th>12</th>\n",
       "      <td>Male</td>\n",
       "      <td>91</td>\n",
       "      <td>Manufacturing</td>\n",
       "      <td>Mass Customer</td>\n",
       "      <td>False</td>\n",
       "      <td>1.0</td>\n",
       "      <td>18</td>\n",
       "      <td>NSW</td>\n",
       "      <td>9</td>\n",
       "      <td>True</td>\n",
       "    </tr>\n",
       "    <tr>\n",
       "      <th>13</th>\n",
       "      <td>Male</td>\n",
       "      <td>38</td>\n",
       "      <td>Other</td>\n",
       "      <td>Mass Customer</td>\n",
       "      <td>True</td>\n",
       "      <td>18.0</td>\n",
       "      <td>41</td>\n",
       "      <td>VIC</td>\n",
       "      <td>4</td>\n",
       "      <td>False</td>\n",
       "    </tr>\n",
       "    <tr>\n",
       "      <th>14</th>\n",
       "      <td>Male</td>\n",
       "      <td>57</td>\n",
       "      <td>Other</td>\n",
       "      <td>Affluent Customer</td>\n",
       "      <td>True</td>\n",
       "      <td>15.0</td>\n",
       "      <td>56</td>\n",
       "      <td>VIC</td>\n",
       "      <td>9</td>\n",
       "      <td>False</td>\n",
       "    </tr>\n",
       "  </tbody>\n",
       "</table>\n",
       "</div>"
      ],
      "text/plain": [
       "    gender  past_3_years_bike_related_purchases job_industry_category  \\\n",
       "0   Female                                   93                Health   \n",
       "1     Male                                   81    Financial Services   \n",
       "2     Male                                   33                    IT   \n",
       "3   Female                                   56                 Other   \n",
       "4     Male                                   35                Retail   \n",
       "5   Female                                    6    Financial Services   \n",
       "6     Male                                   31                 Other   \n",
       "7   Female                                   97           Argiculture   \n",
       "8     Male                                   99              Property   \n",
       "9     Male                                   58         Manufacturing   \n",
       "10    Male                                   38    Financial Services   \n",
       "11  Female                                   85    Financial Services   \n",
       "12    Male                                   91         Manufacturing   \n",
       "13    Male                                   38                 Other   \n",
       "14    Male                                   57                 Other   \n",
       "\n",
       "       wealth_segment  owns_car  tenure  age state  property_valuation  \\\n",
       "0       Mass Customer      True    11.0   65   NSW                  10   \n",
       "1       Mass Customer      True    16.0   38   NSW                  10   \n",
       "2       Mass Customer     False     7.0   57   QLD                   9   \n",
       "3   Affluent Customer      True     8.0   41   NSW                   4   \n",
       "4      High Net Worth      True    13.0   52   VIC                   9   \n",
       "5   Affluent Customer      True    11.0   42   NSW                   9   \n",
       "6       Mass Customer     False     7.0   56   NSW                   4   \n",
       "7   Affluent Customer      True     8.0   45   NSW                  12   \n",
       "8       Mass Customer     False     9.0   64   VIC                   8   \n",
       "9       Mass Customer     False     8.0   24   QLD                   4   \n",
       "10     High Net Worth      True     8.0   63   VIC                   6   \n",
       "11  Affluent Customer     False     6.0   35   NSW                   8   \n",
       "12      Mass Customer     False     1.0   18   NSW                   9   \n",
       "13      Mass Customer      True    18.0   41   VIC                   4   \n",
       "14  Affluent Customer      True    15.0   56   VIC                   9   \n",
       "\n",
       "    online_order  \n",
       "0           True  \n",
       "1          False  \n",
       "2           True  \n",
       "3          False  \n",
       "4          False  \n",
       "5           True  \n",
       "6           True  \n",
       "7          False  \n",
       "8           True  \n",
       "9          False  \n",
       "10          True  \n",
       "11          True  \n",
       "12          True  \n",
       "13         False  \n",
       "14         False  "
      ]
     },
     "execution_count": 10,
     "metadata": {},
     "output_type": "execute_result"
    }
   ],
   "source": [
    "# Wrangle data\n",
    "df_merged = wrangle(\n",
    "    '../input/kpmg-internship/customer_demographic.csv',\n",
    "    '../input/kpmg-internship/customer_address.csv', \n",
    "    '../input/kpmg-internship/customer_transactions.csv'\n",
    ")\n",
    "df_merged.head(15)"
   ]
  },
  {
   "cell_type": "code",
   "execution_count": 11,
   "id": "c156db3c",
   "metadata": {
    "execution": {
     "iopub.execute_input": "2022-06-22T14:59:26.125521Z",
     "iopub.status.busy": "2022-06-22T14:59:26.125118Z",
     "iopub.status.idle": "2022-06-22T14:59:26.143091Z",
     "shell.execute_reply": "2022-06-22T14:59:26.141250Z"
    },
    "papermill": {
     "duration": 0.032583,
     "end_time": "2022-06-22T14:59:26.146308",
     "exception": false,
     "start_time": "2022-06-22T14:59:26.113725",
     "status": "completed"
    },
    "tags": []
   },
   "outputs": [
    {
     "name": "stdout",
     "output_type": "stream",
     "text": [
      "<class 'pandas.core.frame.DataFrame'>\n",
      "Int64Index: 3412 entries, 0 to 3411\n",
      "Data columns (total 10 columns):\n",
      " #   Column                               Non-Null Count  Dtype  \n",
      "---  ------                               --------------  -----  \n",
      " 0   gender                               3412 non-null   object \n",
      " 1   past_3_years_bike_related_purchases  3412 non-null   int64  \n",
      " 2   job_industry_category                3412 non-null   object \n",
      " 3   wealth_segment                       3412 non-null   object \n",
      " 4   owns_car                             3412 non-null   bool   \n",
      " 5   tenure                               3412 non-null   float64\n",
      " 6   age                                  3412 non-null   int64  \n",
      " 7   state                                3412 non-null   object \n",
      " 8   property_valuation                   3412 non-null   int64  \n",
      " 9   online_order                         3412 non-null   bool   \n",
      "dtypes: bool(2), float64(1), int64(3), object(4)\n",
      "memory usage: 246.6+ KB\n"
     ]
    }
   ],
   "source": [
    "df_merged.info()"
   ]
  },
  {
   "cell_type": "markdown",
   "id": "0816dfad",
   "metadata": {
    "papermill": {
     "duration": 0.009312,
     "end_time": "2022-06-22T14:59:26.165208",
     "exception": false,
     "start_time": "2022-06-22T14:59:26.155896",
     "status": "completed"
    },
    "tags": []
   },
   "source": [
    "# Split The Data"
   ]
  },
  {
   "cell_type": "code",
   "execution_count": 12,
   "id": "dc5d9649",
   "metadata": {
    "execution": {
     "iopub.execute_input": "2022-06-22T14:59:26.186963Z",
     "iopub.status.busy": "2022-06-22T14:59:26.186311Z",
     "iopub.status.idle": "2022-06-22T14:59:26.193938Z",
     "shell.execute_reply": "2022-06-22T14:59:26.192424Z"
    },
    "papermill": {
     "duration": 0.021485,
     "end_time": "2022-06-22T14:59:26.196292",
     "exception": false,
     "start_time": "2022-06-22T14:59:26.174807",
     "status": "completed"
    },
    "tags": []
   },
   "outputs": [
    {
     "name": "stdout",
     "output_type": "stream",
     "text": [
      "(3412, 9)\n"
     ]
    }
   ],
   "source": [
    "target = 'online_order'\n",
    "X = df_merged.drop(columns = target)\n",
    "y = df_merged[target]\n",
    "print(X.shape)"
   ]
  },
  {
   "cell_type": "code",
   "execution_count": 13,
   "id": "b8ed21c0",
   "metadata": {
    "execution": {
     "iopub.execute_input": "2022-06-22T14:59:26.217852Z",
     "iopub.status.busy": "2022-06-22T14:59:26.217048Z",
     "iopub.status.idle": "2022-06-22T14:59:26.228725Z",
     "shell.execute_reply": "2022-06-22T14:59:26.227092Z"
    },
    "papermill": {
     "duration": 0.026672,
     "end_time": "2022-06-22T14:59:26.232341",
     "exception": false,
     "start_time": "2022-06-22T14:59:26.205669",
     "status": "completed"
    },
    "tags": []
   },
   "outputs": [
    {
     "name": "stdout",
     "output_type": "stream",
     "text": [
      "(2729, 9)\n",
      "(2729,)\n"
     ]
    }
   ],
   "source": [
    "X_train, X_test, y_train, y_test = train_test_split(X, y, random_state = 42, test_size = 0.2)\n",
    "print(X_train.shape)\n",
    "print(y_train.shape)"
   ]
  },
  {
   "cell_type": "markdown",
   "id": "67d7f9c5",
   "metadata": {
    "papermill": {
     "duration": 0.009702,
     "end_time": "2022-06-22T14:59:26.251825",
     "exception": false,
     "start_time": "2022-06-22T14:59:26.242123",
     "status": "completed"
    },
    "tags": []
   },
   "source": [
    "## Get my Baseline"
   ]
  },
  {
   "cell_type": "code",
   "execution_count": 14,
   "id": "c6d9a1ab",
   "metadata": {
    "execution": {
     "iopub.execute_input": "2022-06-22T14:59:26.273573Z",
     "iopub.status.busy": "2022-06-22T14:59:26.272414Z",
     "iopub.status.idle": "2022-06-22T14:59:26.280352Z",
     "shell.execute_reply": "2022-06-22T14:59:26.279562Z"
    },
    "papermill": {
     "duration": 0.0209,
     "end_time": "2022-06-22T14:59:26.282479",
     "exception": false,
     "start_time": "2022-06-22T14:59:26.261579",
     "status": "completed"
    },
    "tags": []
   },
   "outputs": [
    {
     "data": {
      "text/plain": [
       "0.597303634232122"
      ]
     },
     "execution_count": 14,
     "metadata": {},
     "output_type": "execute_result"
    }
   ],
   "source": [
    "baseline_acc = y.value_counts(normalize= True).max()\n",
    "baseline_acc"
   ]
  },
  {
   "cell_type": "markdown",
   "id": "5a7edc7d",
   "metadata": {
    "papermill": {
     "duration": 0.009552,
     "end_time": "2022-06-22T14:59:26.301580",
     "exception": false,
     "start_time": "2022-06-22T14:59:26.292028",
     "status": "completed"
    },
    "tags": []
   },
   "source": [
    "### Important to Note:\n",
    "True is our Majority Class\n",
    "\n",
    "True is also our Positive Class"
   ]
  },
  {
   "cell_type": "markdown",
   "id": "0d919d77",
   "metadata": {
    "papermill": {
     "duration": 0.009371,
     "end_time": "2022-06-22T14:59:26.320738",
     "exception": false,
     "start_time": "2022-06-22T14:59:26.311367",
     "status": "completed"
    },
    "tags": []
   },
   "source": [
    "## Select my model\n",
    "\n",
    "I will go with a Pipeline that has a Ordinal encoder and RandomForestClassifier in a GridSearchCV model "
   ]
  },
  {
   "cell_type": "code",
   "execution_count": 15,
   "id": "39731630",
   "metadata": {
    "execution": {
     "iopub.execute_input": "2022-06-22T14:59:26.343207Z",
     "iopub.status.busy": "2022-06-22T14:59:26.342417Z",
     "iopub.status.idle": "2022-06-22T14:59:26.354743Z",
     "shell.execute_reply": "2022-06-22T14:59:26.353453Z"
    },
    "papermill": {
     "duration": 0.026548,
     "end_time": "2022-06-22T14:59:26.357030",
     "exception": false,
     "start_time": "2022-06-22T14:59:26.330482",
     "status": "completed"
    },
    "tags": []
   },
   "outputs": [
    {
     "data": {
      "text/plain": [
       "Pipeline(steps=[('ordinalencoder', OrdinalEncoder()),\n",
       "                ('randomforestclassifier',\n",
       "                 RandomForestClassifier(random_state=42))])"
      ]
     },
     "execution_count": 15,
     "metadata": {},
     "output_type": "execute_result"
    }
   ],
   "source": [
    "clf = make_pipeline(\n",
    "    OrdinalEncoder(),\n",
    "    RandomForestClassifier(random_state=42)\n",
    ")\n",
    "clf"
   ]
  },
  {
   "cell_type": "code",
   "execution_count": 16,
   "id": "fede0991",
   "metadata": {
    "execution": {
     "iopub.execute_input": "2022-06-22T14:59:26.379138Z",
     "iopub.status.busy": "2022-06-22T14:59:26.378540Z",
     "iopub.status.idle": "2022-06-22T14:59:26.382782Z",
     "shell.execute_reply": "2022-06-22T14:59:26.382003Z"
    },
    "papermill": {
     "duration": 0.018206,
     "end_time": "2022-06-22T14:59:26.385031",
     "exception": false,
     "start_time": "2022-06-22T14:59:26.366825",
     "status": "completed"
    },
    "tags": []
   },
   "outputs": [],
   "source": [
    "params = {\n",
    "    'randomforestclassifier__n_estimators': range(50,151,25),\n",
    "    'randomforestclassifier__max_depth':range(10,50,10)\n",
    "         }"
   ]
  },
  {
   "cell_type": "code",
   "execution_count": 17,
   "id": "4637cbfc",
   "metadata": {
    "execution": {
     "iopub.execute_input": "2022-06-22T14:59:26.407056Z",
     "iopub.status.busy": "2022-06-22T14:59:26.406430Z",
     "iopub.status.idle": "2022-06-22T14:59:26.420126Z",
     "shell.execute_reply": "2022-06-22T14:59:26.419083Z"
    },
    "papermill": {
     "duration": 0.027467,
     "end_time": "2022-06-22T14:59:26.422454",
     "exception": false,
     "start_time": "2022-06-22T14:59:26.394987",
     "status": "completed"
    },
    "tags": []
   },
   "outputs": [
    {
     "data": {
      "text/plain": [
       "GridSearchCV(cv=5,\n",
       "             estimator=Pipeline(steps=[('ordinalencoder', OrdinalEncoder()),\n",
       "                                       ('randomforestclassifier',\n",
       "                                        RandomForestClassifier(random_state=42))]),\n",
       "             n_jobs=-1,\n",
       "             param_grid={'randomforestclassifier__max_depth': range(10, 50, 10),\n",
       "                         'randomforestclassifier__n_estimators': range(50, 151, 25)},\n",
       "             verbose=1)"
      ]
     },
     "execution_count": 17,
     "metadata": {},
     "output_type": "execute_result"
    }
   ],
   "source": [
    "model = GridSearchCV(\n",
    "    clf,\n",
    "    param_grid=params,\n",
    "    cv = 5,\n",
    "    n_jobs = -1,\n",
    "    verbose = 1\n",
    ")\n",
    "model"
   ]
  },
  {
   "cell_type": "code",
   "execution_count": 18,
   "id": "23fe9f68",
   "metadata": {
    "execution": {
     "iopub.execute_input": "2022-06-22T14:59:26.444320Z",
     "iopub.status.busy": "2022-06-22T14:59:26.443720Z",
     "iopub.status.idle": "2022-06-22T14:59:46.166245Z",
     "shell.execute_reply": "2022-06-22T14:59:46.164710Z"
    },
    "papermill": {
     "duration": 19.736738,
     "end_time": "2022-06-22T14:59:46.169222",
     "exception": false,
     "start_time": "2022-06-22T14:59:26.432484",
     "status": "completed"
    },
    "tags": []
   },
   "outputs": [
    {
     "name": "stdout",
     "output_type": "stream",
     "text": [
      "Fitting 5 folds for each of 20 candidates, totalling 100 fits\n"
     ]
    },
    {
     "data": {
      "text/plain": [
       "GridSearchCV(cv=5,\n",
       "             estimator=Pipeline(steps=[('ordinalencoder', OrdinalEncoder()),\n",
       "                                       ('randomforestclassifier',\n",
       "                                        RandomForestClassifier(random_state=42))]),\n",
       "             n_jobs=-1,\n",
       "             param_grid={'randomforestclassifier__max_depth': range(10, 50, 10),\n",
       "                         'randomforestclassifier__n_estimators': range(50, 151, 25)},\n",
       "             verbose=1)"
      ]
     },
     "execution_count": 18,
     "metadata": {},
     "output_type": "execute_result"
    }
   ],
   "source": [
    "model.fit(X_train, y_train)"
   ]
  },
  {
   "cell_type": "markdown",
   "id": "eba763af",
   "metadata": {
    "papermill": {
     "duration": 0.010114,
     "end_time": "2022-06-22T14:59:46.190436",
     "exception": false,
     "start_time": "2022-06-22T14:59:46.180322",
     "status": "completed"
    },
    "tags": []
   },
   "source": [
    "# Now, We Evaluate our Model"
   ]
  },
  {
   "cell_type": "code",
   "execution_count": 19,
   "id": "7cff0dd8",
   "metadata": {
    "execution": {
     "iopub.execute_input": "2022-06-22T14:59:46.213164Z",
     "iopub.status.busy": "2022-06-22T14:59:46.212785Z",
     "iopub.status.idle": "2022-06-22T14:59:46.251766Z",
     "shell.execute_reply": "2022-06-22T14:59:46.250789Z"
    },
    "papermill": {
     "duration": 0.052951,
     "end_time": "2022-06-22T14:59:46.253887",
     "exception": false,
     "start_time": "2022-06-22T14:59:46.200936",
     "status": "completed"
    },
    "tags": []
   },
   "outputs": [
    {
     "data": {
      "text/html": [
       "<div>\n",
       "<style scoped>\n",
       "    .dataframe tbody tr th:only-of-type {\n",
       "        vertical-align: middle;\n",
       "    }\n",
       "\n",
       "    .dataframe tbody tr th {\n",
       "        vertical-align: top;\n",
       "    }\n",
       "\n",
       "    .dataframe thead th {\n",
       "        text-align: right;\n",
       "    }\n",
       "</style>\n",
       "<table border=\"1\" class=\"dataframe\">\n",
       "  <thead>\n",
       "    <tr style=\"text-align: right;\">\n",
       "      <th></th>\n",
       "      <th>mean_fit_time</th>\n",
       "      <th>std_fit_time</th>\n",
       "      <th>mean_score_time</th>\n",
       "      <th>std_score_time</th>\n",
       "      <th>param_randomforestclassifier__max_depth</th>\n",
       "      <th>param_randomforestclassifier__n_estimators</th>\n",
       "      <th>params</th>\n",
       "      <th>split0_test_score</th>\n",
       "      <th>split1_test_score</th>\n",
       "      <th>split2_test_score</th>\n",
       "      <th>split3_test_score</th>\n",
       "      <th>split4_test_score</th>\n",
       "      <th>mean_test_score</th>\n",
       "      <th>std_test_score</th>\n",
       "      <th>rank_test_score</th>\n",
       "    </tr>\n",
       "  </thead>\n",
       "  <tbody>\n",
       "    <tr>\n",
       "      <th>4</th>\n",
       "      <td>0.807305</td>\n",
       "      <td>0.022970</td>\n",
       "      <td>0.060525</td>\n",
       "      <td>0.005620</td>\n",
       "      <td>10</td>\n",
       "      <td>150</td>\n",
       "      <td>{'randomforestclassifier__max_depth': 10, 'ran...</td>\n",
       "      <td>0.569597</td>\n",
       "      <td>0.582418</td>\n",
       "      <td>0.578755</td>\n",
       "      <td>0.565934</td>\n",
       "      <td>0.603670</td>\n",
       "      <td>0.580075</td>\n",
       "      <td>0.013219</td>\n",
       "      <td>1</td>\n",
       "    </tr>\n",
       "    <tr>\n",
       "      <th>2</th>\n",
       "      <td>0.534567</td>\n",
       "      <td>0.001681</td>\n",
       "      <td>0.043361</td>\n",
       "      <td>0.001461</td>\n",
       "      <td>10</td>\n",
       "      <td>100</td>\n",
       "      <td>{'randomforestclassifier__max_depth': 10, 'ran...</td>\n",
       "      <td>0.573260</td>\n",
       "      <td>0.595238</td>\n",
       "      <td>0.569597</td>\n",
       "      <td>0.556777</td>\n",
       "      <td>0.598165</td>\n",
       "      <td>0.578607</td>\n",
       "      <td>0.015783</td>\n",
       "      <td>2</td>\n",
       "    </tr>\n",
       "    <tr>\n",
       "      <th>3</th>\n",
       "      <td>0.656670</td>\n",
       "      <td>0.006703</td>\n",
       "      <td>0.049403</td>\n",
       "      <td>0.001310</td>\n",
       "      <td>10</td>\n",
       "      <td>125</td>\n",
       "      <td>{'randomforestclassifier__max_depth': 10, 'ran...</td>\n",
       "      <td>0.573260</td>\n",
       "      <td>0.580586</td>\n",
       "      <td>0.571429</td>\n",
       "      <td>0.553114</td>\n",
       "      <td>0.601835</td>\n",
       "      <td>0.576045</td>\n",
       "      <td>0.015752</td>\n",
       "      <td>3</td>\n",
       "    </tr>\n",
       "    <tr>\n",
       "      <th>1</th>\n",
       "      <td>0.414562</td>\n",
       "      <td>0.002202</td>\n",
       "      <td>0.036138</td>\n",
       "      <td>0.000555</td>\n",
       "      <td>10</td>\n",
       "      <td>75</td>\n",
       "      <td>{'randomforestclassifier__max_depth': 10, 'ran...</td>\n",
       "      <td>0.578755</td>\n",
       "      <td>0.586081</td>\n",
       "      <td>0.571429</td>\n",
       "      <td>0.543956</td>\n",
       "      <td>0.590826</td>\n",
       "      <td>0.574209</td>\n",
       "      <td>0.016497</td>\n",
       "      <td>4</td>\n",
       "    </tr>\n",
       "    <tr>\n",
       "      <th>0</th>\n",
       "      <td>0.292125</td>\n",
       "      <td>0.006967</td>\n",
       "      <td>0.028625</td>\n",
       "      <td>0.000671</td>\n",
       "      <td>10</td>\n",
       "      <td>50</td>\n",
       "      <td>{'randomforestclassifier__max_depth': 10, 'ran...</td>\n",
       "      <td>0.565934</td>\n",
       "      <td>0.584249</td>\n",
       "      <td>0.565934</td>\n",
       "      <td>0.534799</td>\n",
       "      <td>0.588991</td>\n",
       "      <td>0.567981</td>\n",
       "      <td>0.019055</td>\n",
       "      <td>5</td>\n",
       "    </tr>\n",
       "    <tr>\n",
       "      <th>18</th>\n",
       "      <td>0.810482</td>\n",
       "      <td>0.010812</td>\n",
       "      <td>0.055822</td>\n",
       "      <td>0.001412</td>\n",
       "      <td>40</td>\n",
       "      <td>125</td>\n",
       "      <td>{'randomforestclassifier__max_depth': 40, 'ran...</td>\n",
       "      <td>0.558608</td>\n",
       "      <td>0.573260</td>\n",
       "      <td>0.532967</td>\n",
       "      <td>0.536630</td>\n",
       "      <td>0.598165</td>\n",
       "      <td>0.559926</td>\n",
       "      <td>0.024130</td>\n",
       "      <td>6</td>\n",
       "    </tr>\n",
       "    <tr>\n",
       "      <th>13</th>\n",
       "      <td>0.795755</td>\n",
       "      <td>0.001474</td>\n",
       "      <td>0.055383</td>\n",
       "      <td>0.001504</td>\n",
       "      <td>30</td>\n",
       "      <td>125</td>\n",
       "      <td>{'randomforestclassifier__max_depth': 30, 'ran...</td>\n",
       "      <td>0.558608</td>\n",
       "      <td>0.562271</td>\n",
       "      <td>0.538462</td>\n",
       "      <td>0.536630</td>\n",
       "      <td>0.598165</td>\n",
       "      <td>0.558827</td>\n",
       "      <td>0.022212</td>\n",
       "      <td>7</td>\n",
       "    </tr>\n",
       "    <tr>\n",
       "      <th>12</th>\n",
       "      <td>0.646676</td>\n",
       "      <td>0.009005</td>\n",
       "      <td>0.047884</td>\n",
       "      <td>0.001547</td>\n",
       "      <td>30</td>\n",
       "      <td>100</td>\n",
       "      <td>{'randomforestclassifier__max_depth': 30, 'ran...</td>\n",
       "      <td>0.545788</td>\n",
       "      <td>0.582418</td>\n",
       "      <td>0.553114</td>\n",
       "      <td>0.534799</td>\n",
       "      <td>0.577982</td>\n",
       "      <td>0.558820</td>\n",
       "      <td>0.018458</td>\n",
       "      <td>8</td>\n",
       "    </tr>\n",
       "    <tr>\n",
       "      <th>17</th>\n",
       "      <td>0.653126</td>\n",
       "      <td>0.010086</td>\n",
       "      <td>0.048190</td>\n",
       "      <td>0.000769</td>\n",
       "      <td>40</td>\n",
       "      <td>100</td>\n",
       "      <td>{'randomforestclassifier__max_depth': 40, 'ran...</td>\n",
       "      <td>0.545788</td>\n",
       "      <td>0.580586</td>\n",
       "      <td>0.551282</td>\n",
       "      <td>0.534799</td>\n",
       "      <td>0.577982</td>\n",
       "      <td>0.558087</td>\n",
       "      <td>0.018121</td>\n",
       "      <td>9</td>\n",
       "    </tr>\n",
       "    <tr>\n",
       "      <th>19</th>\n",
       "      <td>0.906204</td>\n",
       "      <td>0.075684</td>\n",
       "      <td>0.058625</td>\n",
       "      <td>0.006620</td>\n",
       "      <td>40</td>\n",
       "      <td>150</td>\n",
       "      <td>{'randomforestclassifier__max_depth': 40, 'ran...</td>\n",
       "      <td>0.551282</td>\n",
       "      <td>0.565934</td>\n",
       "      <td>0.543956</td>\n",
       "      <td>0.527473</td>\n",
       "      <td>0.594495</td>\n",
       "      <td>0.556628</td>\n",
       "      <td>0.022626</td>\n",
       "      <td>10</td>\n",
       "    </tr>\n",
       "    <tr>\n",
       "      <th>8</th>\n",
       "      <td>0.844982</td>\n",
       "      <td>0.026909</td>\n",
       "      <td>0.058881</td>\n",
       "      <td>0.007221</td>\n",
       "      <td>20</td>\n",
       "      <td>125</td>\n",
       "      <td>{'randomforestclassifier__max_depth': 20, 'ran...</td>\n",
       "      <td>0.556777</td>\n",
       "      <td>0.560440</td>\n",
       "      <td>0.564103</td>\n",
       "      <td>0.536630</td>\n",
       "      <td>0.561468</td>\n",
       "      <td>0.555883</td>\n",
       "      <td>0.009909</td>\n",
       "      <td>11</td>\n",
       "    </tr>\n",
       "    <tr>\n",
       "      <th>7</th>\n",
       "      <td>0.689389</td>\n",
       "      <td>0.021340</td>\n",
       "      <td>0.047972</td>\n",
       "      <td>0.003623</td>\n",
       "      <td>20</td>\n",
       "      <td>100</td>\n",
       "      <td>{'randomforestclassifier__max_depth': 20, 'ran...</td>\n",
       "      <td>0.565934</td>\n",
       "      <td>0.560440</td>\n",
       "      <td>0.558608</td>\n",
       "      <td>0.531136</td>\n",
       "      <td>0.559633</td>\n",
       "      <td>0.555150</td>\n",
       "      <td>0.012272</td>\n",
       "      <td>12</td>\n",
       "    </tr>\n",
       "    <tr>\n",
       "      <th>11</th>\n",
       "      <td>0.510060</td>\n",
       "      <td>0.006702</td>\n",
       "      <td>0.042595</td>\n",
       "      <td>0.005026</td>\n",
       "      <td>30</td>\n",
       "      <td>75</td>\n",
       "      <td>{'randomforestclassifier__max_depth': 30, 'ran...</td>\n",
       "      <td>0.549451</td>\n",
       "      <td>0.564103</td>\n",
       "      <td>0.558608</td>\n",
       "      <td>0.516484</td>\n",
       "      <td>0.583486</td>\n",
       "      <td>0.554426</td>\n",
       "      <td>0.022000</td>\n",
       "      <td>13</td>\n",
       "    </tr>\n",
       "    <tr>\n",
       "      <th>14</th>\n",
       "      <td>0.943306</td>\n",
       "      <td>0.006141</td>\n",
       "      <td>0.064716</td>\n",
       "      <td>0.002893</td>\n",
       "      <td>30</td>\n",
       "      <td>150</td>\n",
       "      <td>{'randomforestclassifier__max_depth': 30, 'ran...</td>\n",
       "      <td>0.551282</td>\n",
       "      <td>0.560440</td>\n",
       "      <td>0.536630</td>\n",
       "      <td>0.527473</td>\n",
       "      <td>0.594495</td>\n",
       "      <td>0.554064</td>\n",
       "      <td>0.023213</td>\n",
       "      <td>14</td>\n",
       "    </tr>\n",
       "    <tr>\n",
       "      <th>16</th>\n",
       "      <td>0.502380</td>\n",
       "      <td>0.009795</td>\n",
       "      <td>0.039290</td>\n",
       "      <td>0.000991</td>\n",
       "      <td>40</td>\n",
       "      <td>75</td>\n",
       "      <td>{'randomforestclassifier__max_depth': 40, 'ran...</td>\n",
       "      <td>0.549451</td>\n",
       "      <td>0.564103</td>\n",
       "      <td>0.556777</td>\n",
       "      <td>0.516484</td>\n",
       "      <td>0.583486</td>\n",
       "      <td>0.554060</td>\n",
       "      <td>0.021943</td>\n",
       "      <td>15</td>\n",
       "    </tr>\n",
       "    <tr>\n",
       "      <th>15</th>\n",
       "      <td>0.342785</td>\n",
       "      <td>0.002236</td>\n",
       "      <td>0.030277</td>\n",
       "      <td>0.000992</td>\n",
       "      <td>40</td>\n",
       "      <td>50</td>\n",
       "      <td>{'randomforestclassifier__max_depth': 40, 'ran...</td>\n",
       "      <td>0.547619</td>\n",
       "      <td>0.573260</td>\n",
       "      <td>0.534799</td>\n",
       "      <td>0.521978</td>\n",
       "      <td>0.581651</td>\n",
       "      <td>0.551861</td>\n",
       "      <td>0.022572</td>\n",
       "      <td>16</td>\n",
       "    </tr>\n",
       "    <tr>\n",
       "      <th>6</th>\n",
       "      <td>0.523334</td>\n",
       "      <td>0.017108</td>\n",
       "      <td>0.040676</td>\n",
       "      <td>0.003260</td>\n",
       "      <td>20</td>\n",
       "      <td>75</td>\n",
       "      <td>{'randomforestclassifier__max_depth': 20, 'ran...</td>\n",
       "      <td>0.560440</td>\n",
       "      <td>0.556777</td>\n",
       "      <td>0.545788</td>\n",
       "      <td>0.532967</td>\n",
       "      <td>0.563303</td>\n",
       "      <td>0.551855</td>\n",
       "      <td>0.011158</td>\n",
       "      <td>17</td>\n",
       "    </tr>\n",
       "    <tr>\n",
       "      <th>10</th>\n",
       "      <td>0.343201</td>\n",
       "      <td>0.003385</td>\n",
       "      <td>0.031460</td>\n",
       "      <td>0.000641</td>\n",
       "      <td>30</td>\n",
       "      <td>50</td>\n",
       "      <td>{'randomforestclassifier__max_depth': 30, 'ran...</td>\n",
       "      <td>0.547619</td>\n",
       "      <td>0.573260</td>\n",
       "      <td>0.531136</td>\n",
       "      <td>0.521978</td>\n",
       "      <td>0.581651</td>\n",
       "      <td>0.551129</td>\n",
       "      <td>0.023166</td>\n",
       "      <td>18</td>\n",
       "    </tr>\n",
       "    <tr>\n",
       "      <th>9</th>\n",
       "      <td>0.949089</td>\n",
       "      <td>0.010936</td>\n",
       "      <td>0.064475</td>\n",
       "      <td>0.001349</td>\n",
       "      <td>20</td>\n",
       "      <td>150</td>\n",
       "      <td>{'randomforestclassifier__max_depth': 20, 'ran...</td>\n",
       "      <td>0.542125</td>\n",
       "      <td>0.556777</td>\n",
       "      <td>0.553114</td>\n",
       "      <td>0.529304</td>\n",
       "      <td>0.565138</td>\n",
       "      <td>0.549291</td>\n",
       "      <td>0.012431</td>\n",
       "      <td>19</td>\n",
       "    </tr>\n",
       "    <tr>\n",
       "      <th>5</th>\n",
       "      <td>0.371159</td>\n",
       "      <td>0.022630</td>\n",
       "      <td>0.032477</td>\n",
       "      <td>0.004872</td>\n",
       "      <td>20</td>\n",
       "      <td>50</td>\n",
       "      <td>{'randomforestclassifier__max_depth': 20, 'ran...</td>\n",
       "      <td>0.554945</td>\n",
       "      <td>0.576923</td>\n",
       "      <td>0.527473</td>\n",
       "      <td>0.509158</td>\n",
       "      <td>0.552294</td>\n",
       "      <td>0.544158</td>\n",
       "      <td>0.023493</td>\n",
       "      <td>20</td>\n",
       "    </tr>\n",
       "  </tbody>\n",
       "</table>\n",
       "</div>"
      ],
      "text/plain": [
       "    mean_fit_time  std_fit_time  mean_score_time  std_score_time  \\\n",
       "4        0.807305      0.022970         0.060525        0.005620   \n",
       "2        0.534567      0.001681         0.043361        0.001461   \n",
       "3        0.656670      0.006703         0.049403        0.001310   \n",
       "1        0.414562      0.002202         0.036138        0.000555   \n",
       "0        0.292125      0.006967         0.028625        0.000671   \n",
       "18       0.810482      0.010812         0.055822        0.001412   \n",
       "13       0.795755      0.001474         0.055383        0.001504   \n",
       "12       0.646676      0.009005         0.047884        0.001547   \n",
       "17       0.653126      0.010086         0.048190        0.000769   \n",
       "19       0.906204      0.075684         0.058625        0.006620   \n",
       "8        0.844982      0.026909         0.058881        0.007221   \n",
       "7        0.689389      0.021340         0.047972        0.003623   \n",
       "11       0.510060      0.006702         0.042595        0.005026   \n",
       "14       0.943306      0.006141         0.064716        0.002893   \n",
       "16       0.502380      0.009795         0.039290        0.000991   \n",
       "15       0.342785      0.002236         0.030277        0.000992   \n",
       "6        0.523334      0.017108         0.040676        0.003260   \n",
       "10       0.343201      0.003385         0.031460        0.000641   \n",
       "9        0.949089      0.010936         0.064475        0.001349   \n",
       "5        0.371159      0.022630         0.032477        0.004872   \n",
       "\n",
       "   param_randomforestclassifier__max_depth  \\\n",
       "4                                       10   \n",
       "2                                       10   \n",
       "3                                       10   \n",
       "1                                       10   \n",
       "0                                       10   \n",
       "18                                      40   \n",
       "13                                      30   \n",
       "12                                      30   \n",
       "17                                      40   \n",
       "19                                      40   \n",
       "8                                       20   \n",
       "7                                       20   \n",
       "11                                      30   \n",
       "14                                      30   \n",
       "16                                      40   \n",
       "15                                      40   \n",
       "6                                       20   \n",
       "10                                      30   \n",
       "9                                       20   \n",
       "5                                       20   \n",
       "\n",
       "   param_randomforestclassifier__n_estimators  \\\n",
       "4                                         150   \n",
       "2                                         100   \n",
       "3                                         125   \n",
       "1                                          75   \n",
       "0                                          50   \n",
       "18                                        125   \n",
       "13                                        125   \n",
       "12                                        100   \n",
       "17                                        100   \n",
       "19                                        150   \n",
       "8                                         125   \n",
       "7                                         100   \n",
       "11                                         75   \n",
       "14                                        150   \n",
       "16                                         75   \n",
       "15                                         50   \n",
       "6                                          75   \n",
       "10                                         50   \n",
       "9                                         150   \n",
       "5                                          50   \n",
       "\n",
       "                                               params  split0_test_score  \\\n",
       "4   {'randomforestclassifier__max_depth': 10, 'ran...           0.569597   \n",
       "2   {'randomforestclassifier__max_depth': 10, 'ran...           0.573260   \n",
       "3   {'randomforestclassifier__max_depth': 10, 'ran...           0.573260   \n",
       "1   {'randomforestclassifier__max_depth': 10, 'ran...           0.578755   \n",
       "0   {'randomforestclassifier__max_depth': 10, 'ran...           0.565934   \n",
       "18  {'randomforestclassifier__max_depth': 40, 'ran...           0.558608   \n",
       "13  {'randomforestclassifier__max_depth': 30, 'ran...           0.558608   \n",
       "12  {'randomforestclassifier__max_depth': 30, 'ran...           0.545788   \n",
       "17  {'randomforestclassifier__max_depth': 40, 'ran...           0.545788   \n",
       "19  {'randomforestclassifier__max_depth': 40, 'ran...           0.551282   \n",
       "8   {'randomforestclassifier__max_depth': 20, 'ran...           0.556777   \n",
       "7   {'randomforestclassifier__max_depth': 20, 'ran...           0.565934   \n",
       "11  {'randomforestclassifier__max_depth': 30, 'ran...           0.549451   \n",
       "14  {'randomforestclassifier__max_depth': 30, 'ran...           0.551282   \n",
       "16  {'randomforestclassifier__max_depth': 40, 'ran...           0.549451   \n",
       "15  {'randomforestclassifier__max_depth': 40, 'ran...           0.547619   \n",
       "6   {'randomforestclassifier__max_depth': 20, 'ran...           0.560440   \n",
       "10  {'randomforestclassifier__max_depth': 30, 'ran...           0.547619   \n",
       "9   {'randomforestclassifier__max_depth': 20, 'ran...           0.542125   \n",
       "5   {'randomforestclassifier__max_depth': 20, 'ran...           0.554945   \n",
       "\n",
       "    split1_test_score  split2_test_score  split3_test_score  \\\n",
       "4            0.582418           0.578755           0.565934   \n",
       "2            0.595238           0.569597           0.556777   \n",
       "3            0.580586           0.571429           0.553114   \n",
       "1            0.586081           0.571429           0.543956   \n",
       "0            0.584249           0.565934           0.534799   \n",
       "18           0.573260           0.532967           0.536630   \n",
       "13           0.562271           0.538462           0.536630   \n",
       "12           0.582418           0.553114           0.534799   \n",
       "17           0.580586           0.551282           0.534799   \n",
       "19           0.565934           0.543956           0.527473   \n",
       "8            0.560440           0.564103           0.536630   \n",
       "7            0.560440           0.558608           0.531136   \n",
       "11           0.564103           0.558608           0.516484   \n",
       "14           0.560440           0.536630           0.527473   \n",
       "16           0.564103           0.556777           0.516484   \n",
       "15           0.573260           0.534799           0.521978   \n",
       "6            0.556777           0.545788           0.532967   \n",
       "10           0.573260           0.531136           0.521978   \n",
       "9            0.556777           0.553114           0.529304   \n",
       "5            0.576923           0.527473           0.509158   \n",
       "\n",
       "    split4_test_score  mean_test_score  std_test_score  rank_test_score  \n",
       "4            0.603670         0.580075        0.013219                1  \n",
       "2            0.598165         0.578607        0.015783                2  \n",
       "3            0.601835         0.576045        0.015752                3  \n",
       "1            0.590826         0.574209        0.016497                4  \n",
       "0            0.588991         0.567981        0.019055                5  \n",
       "18           0.598165         0.559926        0.024130                6  \n",
       "13           0.598165         0.558827        0.022212                7  \n",
       "12           0.577982         0.558820        0.018458                8  \n",
       "17           0.577982         0.558087        0.018121                9  \n",
       "19           0.594495         0.556628        0.022626               10  \n",
       "8            0.561468         0.555883        0.009909               11  \n",
       "7            0.559633         0.555150        0.012272               12  \n",
       "11           0.583486         0.554426        0.022000               13  \n",
       "14           0.594495         0.554064        0.023213               14  \n",
       "16           0.583486         0.554060        0.021943               15  \n",
       "15           0.581651         0.551861        0.022572               16  \n",
       "6            0.563303         0.551855        0.011158               17  \n",
       "10           0.581651         0.551129        0.023166               18  \n",
       "9            0.565138         0.549291        0.012431               19  \n",
       "5            0.552294         0.544158        0.023493               20  "
      ]
     },
     "execution_count": 19,
     "metadata": {},
     "output_type": "execute_result"
    }
   ],
   "source": [
    "pd.DataFrame(model.cv_results_).sort_values('rank_test_score')"
   ]
  },
  {
   "cell_type": "code",
   "execution_count": 20,
   "id": "dc061cbb",
   "metadata": {
    "execution": {
     "iopub.execute_input": "2022-06-22T14:59:46.277796Z",
     "iopub.status.busy": "2022-06-22T14:59:46.277365Z",
     "iopub.status.idle": "2022-06-22T14:59:46.284759Z",
     "shell.execute_reply": "2022-06-22T14:59:46.283586Z"
    },
    "papermill": {
     "duration": 0.022463,
     "end_time": "2022-06-22T14:59:46.287221",
     "exception": false,
     "start_time": "2022-06-22T14:59:46.264758",
     "status": "completed"
    },
    "tags": []
   },
   "outputs": [
    {
     "data": {
      "text/plain": [
       "{'randomforestclassifier__max_depth': 10,\n",
       " 'randomforestclassifier__n_estimators': 150}"
      ]
     },
     "execution_count": 20,
     "metadata": {},
     "output_type": "execute_result"
    }
   ],
   "source": [
    "model.best_params_"
   ]
  },
  {
   "cell_type": "code",
   "execution_count": 21,
   "id": "2d085cc6",
   "metadata": {
    "execution": {
     "iopub.execute_input": "2022-06-22T14:59:46.311746Z",
     "iopub.status.busy": "2022-06-22T14:59:46.310974Z",
     "iopub.status.idle": "2022-06-22T14:59:46.317786Z",
     "shell.execute_reply": "2022-06-22T14:59:46.316920Z"
    },
    "papermill": {
     "duration": 0.021399,
     "end_time": "2022-06-22T14:59:46.319948",
     "exception": false,
     "start_time": "2022-06-22T14:59:46.298549",
     "status": "completed"
    },
    "tags": []
   },
   "outputs": [
    {
     "data": {
      "text/plain": [
       "0.5800746042947877"
      ]
     },
     "execution_count": 21,
     "metadata": {},
     "output_type": "execute_result"
    }
   ],
   "source": [
    "model.best_score_"
   ]
  },
  {
   "cell_type": "markdown",
   "id": "a095a36a",
   "metadata": {
    "papermill": {
     "duration": 0.011098,
     "end_time": "2022-06-22T14:59:46.341917",
     "exception": false,
     "start_time": "2022-06-22T14:59:46.330819",
     "status": "completed"
    },
    "tags": []
   },
   "source": [
    "Unfortunately, this model did not beat our baseline accuracy score of 0.5097"
   ]
  },
  {
   "cell_type": "code",
   "execution_count": 22,
   "id": "ecf78513",
   "metadata": {
    "execution": {
     "iopub.execute_input": "2022-06-22T14:59:46.366782Z",
     "iopub.status.busy": "2022-06-22T14:59:46.366016Z",
     "iopub.status.idle": "2022-06-22T14:59:46.420686Z",
     "shell.execute_reply": "2022-06-22T14:59:46.419436Z"
    },
    "papermill": {
     "duration": 0.070187,
     "end_time": "2022-06-22T14:59:46.423347",
     "exception": false,
     "start_time": "2022-06-22T14:59:46.353160",
     "status": "completed"
    },
    "tags": []
   },
   "outputs": [
    {
     "data": {
      "text/plain": [
       "0.5695461200585652"
      ]
     },
     "execution_count": 22,
     "metadata": {},
     "output_type": "execute_result"
    }
   ],
   "source": [
    "model.score(X_test, y_test)"
   ]
  },
  {
   "cell_type": "markdown",
   "id": "8aff4075",
   "metadata": {
    "papermill": {
     "duration": 0.01147,
     "end_time": "2022-06-22T14:59:46.445934",
     "exception": false,
     "start_time": "2022-06-22T14:59:46.434464",
     "status": "completed"
    },
    "tags": []
   },
   "source": [
    "## Save the Model to a Pickle File "
   ]
  },
  {
   "cell_type": "code",
   "execution_count": 23,
   "id": "d9c8f2c2",
   "metadata": {
    "execution": {
     "iopub.execute_input": "2022-06-22T14:59:46.471101Z",
     "iopub.status.busy": "2022-06-22T14:59:46.470442Z",
     "iopub.status.idle": "2022-06-22T14:59:46.495478Z",
     "shell.execute_reply": "2022-06-22T14:59:46.494559Z"
    },
    "papermill": {
     "duration": 0.040651,
     "end_time": "2022-06-22T14:59:46.498058",
     "exception": false,
     "start_time": "2022-06-22T14:59:46.457407",
     "status": "completed"
    },
    "tags": []
   },
   "outputs": [],
   "source": [
    "with open('rfclf_onlineorder_2.pkl', 'wb') as f:\n",
    "    pickle.dump(model, f)"
   ]
  },
  {
   "cell_type": "code",
   "execution_count": 24,
   "id": "6ec68255",
   "metadata": {
    "execution": {
     "iopub.execute_input": "2022-06-22T14:59:46.522986Z",
     "iopub.status.busy": "2022-06-22T14:59:46.522335Z",
     "iopub.status.idle": "2022-06-22T14:59:46.803812Z",
     "shell.execute_reply": "2022-06-22T14:59:46.802491Z"
    },
    "papermill": {
     "duration": 0.297403,
     "end_time": "2022-06-22T14:59:46.806583",
     "exception": false,
     "start_time": "2022-06-22T14:59:46.509180",
     "status": "completed"
    },
    "tags": []
   },
   "outputs": [
    {
     "data": {
      "text/plain": [
       "<AxesSubplot:title={'center':'Gini Importance'}, ylabel='Feature Importance'>"
      ]
     },
     "execution_count": 24,
     "metadata": {},
     "output_type": "execute_result"
    },
    {
     "data": {
      "image/png": "[encoded data removed]",
      "text/plain": [
       "<Figure size 432x288 with 1 Axes>"
      ]
     },
     "metadata": {
      "needs_background": "light"
     },
     "output_type": "display_data"
    }
   ],
   "source": [
    "importances = model.best_estimator_.named_steps['randomforestclassifier'].feature_importances_\n",
    "features = model.best_estimator_.named_steps['randomforestclassifier'].feature_names_in_\n",
    "\n",
    "feat_imp = pd.Series(importances, index=features).sort_values()\n",
    "feat_imp.plot(kind = 'barh', ylabel = 'Feature', xlabel = 'Feature Importance', title='Gini Importance')"
   ]
  },
  {
   "cell_type": "code",
   "execution_count": null,
   "id": "bdb4ed23",
   "metadata": {
    "papermill": {
     "duration": 0.011531,
     "end_time": "2022-06-22T14:59:46.829851",
     "exception": false,
     "start_time": "2022-06-22T14:59:46.818320",
     "status": "completed"
    },
    "tags": []
   },
   "outputs": [],
   "source": []
  },
  {
   "cell_type": "code",
   "execution_count": null,
   "id": "3accf61d",
   "metadata": {
    "papermill": {
     "duration": 0.011674,
     "end_time": "2022-06-22T14:59:46.853649",
     "exception": false,
     "start_time": "2022-06-22T14:59:46.841975",
     "status": "completed"
    },
    "tags": []
   },
   "outputs": [],
   "source": []
  }
 ],
 "metadata": {
  "kernelspec": {
   "display_name": "Python 3",
   "language": "python",
   "name": "python3"
  },
  "language_info": {
   "codemirror_mode": {
    "name": "ipython",
    "version": 3
   },
   "file_extension": ".py",
   "mimetype": "text/x-python",
   "name": "python",
   "nbconvert_exporter": "python",
   "pygments_lexer": "ipython3",
   "version": "3.7.12"
  },
  "papermill": {
   "default_parameters": {},
   "duration": 35.934568,
   "end_time": "2022-06-22T14:59:49.487232",
   "environment_variables": {},
   "exception": null,
   "input_path": "__notebook__.ipynb",
   "output_path": "__notebook__.ipynb",
   "parameters": {},
   "start_time": "2022-06-22T14:59:13.552664",
   "version": "2.3.4"
  }
 },
 "nbformat": 4,
 "nbformat_minor": 5
}
